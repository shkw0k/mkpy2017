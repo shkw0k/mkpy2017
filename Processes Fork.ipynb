{
 "cells": [
  {
   "cell_type": "markdown",
   "metadata": {},
   "source": [
    "### Processes Fork"
   ]
  },
  {
   "cell_type": "code",
   "execution_count": 1,
   "metadata": {
    "collapsed": true
   },
   "outputs": [],
   "source": [
    "import os\n",
    "import time"
   ]
  },
  {
   "cell_type": "code",
   "execution_count": 3,
   "metadata": {
    "collapsed": true
   },
   "outputs": [],
   "source": [
    "def worker (label, wid):\n",
    "    global counter\n",
    "    print (label, \"Started %d, pid=%d, counter=%d\" % (wid, os.getpid(), counter))\n",
    "    counter += 1\n",
    "    time.sleep(2)\n",
    "    print (label, \"Terminated %d, counter=%d\" % (wid, counter))"
   ]
  },
  {
   "cell_type": "code",
   "execution_count": 4,
   "metadata": {},
   "outputs": [
    {
     "name": "stdout",
     "output_type": "stream",
     "text": [
      "Child Started 0, pid=4225, counter=0\n",
      "Parent Started 4225, pid=4082, counter=0\n",
      "Parent Terminated 4225, counter=1\n",
      "Child Terminated 0, counter=1\n"
     ]
    }
   ],
   "source": [
    "counter = 0\n",
    "\n",
    "pid = os.fork()\n",
    "if pid == 0:\n",
    "    # Child process\n",
    "    worker (\"Child\", pid)\n",
    "    os._exit(0)\n",
    "else:\n",
    "    # Parent process\n",
    "    worker (\"Parent\", pid)"
   ]
  },
  {
   "cell_type": "code",
   "execution_count": null,
   "metadata": {
    "collapsed": true
   },
   "outputs": [],
   "source": []
  }
 ],
 "metadata": {
  "kernelspec": {
   "display_name": "Python 3",
   "language": "python",
   "name": "python3"
  },
  "language_info": {
   "codemirror_mode": {
    "name": "ipython",
    "version": 3
   },
   "file_extension": ".py",
   "mimetype": "text/x-python",
   "name": "python",
   "nbconvert_exporter": "python",
   "pygments_lexer": "ipython3",
   "version": "3.6.3"
  }
 },
 "nbformat": 4,
 "nbformat_minor": 2
}
