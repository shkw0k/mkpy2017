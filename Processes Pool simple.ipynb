{
 "cells": [
  {
   "cell_type": "markdown",
   "metadata": {},
   "source": [
    "### Processes shared memory"
   ]
  },
  {
   "cell_type": "code",
   "execution_count": 46,
   "metadata": {
    "collapsed": true
   },
   "outputs": [],
   "source": [
    "import multiprocessing as mp\n",
    "import numpy as np\n",
    "import ctypes"
   ]
  },
  {
   "cell_type": "code",
   "execution_count": 45,
   "metadata": {},
   "outputs": [],
   "source": [
    "sharedData = np.zeros((4, 4))"
   ]
  },
  {
   "cell_type": "code",
   "execution_count": 47,
   "metadata": {
    "collapsed": true
   },
   "outputs": [],
   "source": [
    "_data = mp.Array(ctypes.c_double, 4*4)\n",
    "sharedData = np.ctypeslib.as_array(_data.get_obj()).reshape(4,4)\n"
   ]
  },
  {
   "cell_type": "code",
   "execution_count": 48,
   "metadata": {
    "collapsed": true
   },
   "outputs": [],
   "source": [
    "def workerFunction (i):\n",
    "    global sharedData\n",
    "    sharedData[i, :] = i + 100"
   ]
  },
  {
   "cell_type": "code",
   "execution_count": 49,
   "metadata": {
    "collapsed": true
   },
   "outputs": [],
   "source": [
    "def testSharedMemory():\n",
    "    pool = mp.Pool(processes = 4)\n",
    "    pool.map(workerFunction, range(3))    "
   ]
  },
  {
   "cell_type": "code",
   "execution_count": 50,
   "metadata": {},
   "outputs": [
    {
     "name": "stdout",
     "output_type": "stream",
     "text": [
      "[[ 100.  100.  100.  100.]\n",
      " [ 101.  101.  101.  101.]\n",
      " [ 102.  102.  102.  102.]\n",
      " [   0.    0.    0.    0.]][[ 100.  100.  100.  100.]\n",
      " [ 101.  101.  101.  101.]\n",
      " [ 102.  102.  102.  102.]\n",
      " [   0.    0.    0.    0.]]\n",
      "\n",
      "[[ 100.  100.  100.  100.]\n",
      " [ 101.  101.  101.  101.]\n",
      " [ 102.  102.  102.  102.]\n",
      " [   0.    0.    0.    0.]]\n",
      "\n",
      "\n",
      "\n"
     ]
    }
   ],
   "source": [
    "testSharedMemory ()"
   ]
  },
  {
   "cell_type": "code",
   "execution_count": 51,
   "metadata": {},
   "outputs": [
    {
     "name": "stdout",
     "output_type": "stream",
     "text": [
      "[[ 100.  100.  100.  100.]\n",
      " [ 101.  101.  101.  101.]\n",
      " [ 102.  102.  102.  102.]\n",
      " [   0.    0.    0.    0.]]\n"
     ]
    }
   ],
   "source": [
    "print(sharedData)"
   ]
  },
  {
   "cell_type": "code",
   "execution_count": null,
   "metadata": {
    "collapsed": true
   },
   "outputs": [],
   "source": []
  }
 ],
 "metadata": {
  "kernelspec": {
   "display_name": "Python 3",
   "language": "python",
   "name": "python3"
  },
  "language_info": {
   "codemirror_mode": {
    "name": "ipython",
    "version": 3
   },
   "file_extension": ".py",
   "mimetype": "text/x-python",
   "name": "python",
   "nbconvert_exporter": "python",
   "pygments_lexer": "ipython3",
   "version": "3.6.3"
  }
 },
 "nbformat": 4,
 "nbformat_minor": 2
}
