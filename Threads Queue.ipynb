{
 "cells": [
  {
   "cell_type": "markdown",
   "metadata": {},
   "source": [
    "# Threads\n",
    "\n",
    "Asynchronous threads\n",
    "\n",
    "- Data producer and consumer  running at different speed\n",
    "- Communication via queues"
   ]
  },
  {
   "cell_type": "code",
   "execution_count": 1,
   "metadata": {
    "collapsed": true
   },
   "outputs": [],
   "source": [
    "import threading\n",
    "import queue\n",
    "import time\n",
    "import random\n",
    "import os"
   ]
  },
  {
   "cell_type": "markdown",
   "metadata": {},
   "source": [
    "# Create a Queue"
   ]
  },
  {
   "cell_type": "code",
   "execution_count": 2,
   "metadata": {
    "collapsed": true
   },
   "outputs": [],
   "source": [
    "dataQueue = queue.Queue(maxsize=10)"
   ]
  },
  {
   "cell_type": "markdown",
   "metadata": {},
   "source": [
    "# Data producer worker"
   ]
  },
  {
   "cell_type": "code",
   "execution_count": 3,
   "metadata": {
    "collapsed": true
   },
   "outputs": [],
   "source": [
    "def producer (prefix, maxN=10):\n",
    "    global dataQueue\n",
    "    for i in range(maxN):\n",
    "        data = \"%s-%d\" % (prefix, i)        \n",
    "        dataQueue.put(data, block=True)    \n",
    "        time.sleep(random.random() * 0.4)"
   ]
  },
  {
   "cell_type": "markdown",
   "metadata": {},
   "source": [
    "# Data consumer worker"
   ]
  },
  {
   "cell_type": "code",
   "execution_count": 4,
   "metadata": {
    "collapsed": true
   },
   "outputs": [],
   "source": [
    "def consumer (cId=0):\n",
    "    global dataQueue\n",
    "    while True:\n",
    "        try:\n",
    "            data = dataQueue.get(block=True, timeout=3)\n",
    "            print (\"Consumer\", cId, data)  \n",
    "            time.sleep(random.random() * 0.4)\n",
    "            dataQueue.task_done()\n",
    "        except queue.Empty:\n",
    "            print (\"Emtry\")\n",
    "            break\n",
    "    print (\"Consumer end\")"
   ]
  },
  {
   "cell_type": "markdown",
   "metadata": {},
   "source": [
    "# Example: One producer and one consumer"
   ]
  },
  {
   "cell_type": "code",
   "execution_count": 5,
   "metadata": {
    "scrolled": false
   },
   "outputs": [
    {
     "name": "stdout",
     "output_type": "stream",
     "text": [
      "Consumer 0 A-0\n",
      "Consumer 0 A-1\n",
      "Consumer 0 A-2\n",
      "Consumer 0 A-3\n",
      "Consumer 0 A-4\n",
      "Consumer 0 A-5\n",
      "Consumer 0 A-6\n",
      "Consumer 0 A-7\n",
      "Consumer 0 A-8\n",
      "Consumer 0 A-9\n",
      "Emtry\n",
      "EndConsumer end\n",
      "\n"
     ]
    }
   ],
   "source": [
    "dataQueue = queue.Queue(maxsize=10)\n",
    "\n",
    "producerThread = threading.Thread(target=producer, args=('A',10))\n",
    "consumerThread = threading.Thread(target=consumer)\n",
    "\n",
    "producerThread.start()\n",
    "consumerThread.start()\n",
    "\n",
    "producerThread.join()\n",
    "consumerThread.join()\n",
    "dataQueue.join()\n",
    "\n",
    "print (\"End\")"
   ]
  },
  {
   "cell_type": "markdown",
   "metadata": {},
   "source": [
    "# Example: One producer and multiple consumers"
   ]
  },
  {
   "cell_type": "code",
   "execution_count": 6,
   "metadata": {},
   "outputs": [
    {
     "name": "stdout",
     "output_type": "stream",
     "text": [
      "Consumer 0 A-0\n",
      "Consumer 1 A-1\n",
      "Consumer 2 A-2\n",
      "Consumer 3 A-3\n",
      "Consumer 4 A-4\n",
      "Consumer 1 A-5\n",
      "Consumer 0 A-6\n",
      "Consumer 2 A-7\n",
      "Consumer 3 A-8\n",
      "Consumer 4 A-9\n",
      "Consumer 1 A-10\n",
      "Consumer 2 A-11\n",
      "Consumer 0 A-12\n",
      "Consumer 3 A-13\n",
      "Consumer 4 A-14\n",
      "Consumer 1 A-15\n",
      "Consumer 2 A-16\n",
      "Consumer 0 A-17\n",
      "Consumer 0 A-18\n",
      "Consumer 3 A-19\n",
      "Consumer 1 A-20\n",
      "Consumer 2 A-21\n",
      "Consumer 4 A-22\n",
      "Consumer 0 A-23\n",
      "Consumer 3 A-24\n",
      "Consumer 1 A-25\n",
      "Consumer 2 A-26\n",
      "Consumer 4 A-27\n",
      "Consumer 3 A-28\n",
      "Consumer 0 A-29\n",
      "End\n",
      "Emtry\n",
      "Consumer end\n",
      "Emtry\n",
      "Consumer end\n",
      "Emtry\n",
      "Consumer end\n",
      "Emtry\n",
      "Consumer end\n",
      "Emtry\n",
      "Consumer end\n"
     ]
    }
   ],
   "source": [
    "dataQueue = queue.Queue(maxsize=4)\n",
    "\n",
    "[ threading.Thread(target=consumer, args=(i,)).start() for i in range(5) ]\n",
    "\n",
    "producer ('A', 30)\n",
    "\n",
    "dataQueue.join()\n",
    "print (\"End\")"
   ]
  },
  {
   "cell_type": "markdown",
   "metadata": {},
   "source": [
    "# Example: Multiple producers and multiple consumers"
   ]
  },
  {
   "cell_type": "code",
   "execution_count": 7,
   "metadata": {
    "scrolled": false
   },
   "outputs": [
    {
     "name": "stdout",
     "output_type": "stream",
     "text": [
      "Consumer 0 A-0\n",
      "Consumer 1 ConsumerB-0 Consumer\n",
      "2 3  C-0D-0\n",
      "\n",
      "Consumer 4 E-0\n",
      "Waiting\n",
      "Consumer 4 F-0\n",
      "Consumer Consumer2  0G-0 \n",
      "H-0\n",
      "Consumer 1 I-0\n",
      "Consumer 4 J-0\n",
      "Consumer 0 I-1\n",
      "Consumer 3 H-1\n",
      "Consumer 4 B-1\n",
      "Consumer 2 C-1\n",
      "Consumer 0 H-2\n",
      "Consumer 1 J-1\n",
      "Consumer 3 F-1\n",
      "Consumer 4 G-1\n",
      "Consumer 0 H-3\n",
      "ConsumerConsumer  02  E-1A-1\n",
      "\n",
      "Consumer 1 D-1\n",
      "Consumer 3 F-2\n",
      "Consumer 3 C-2\n",
      "Consumer 2 B-2\n",
      "Consumer 0 I-2\n",
      "Consumer 4 E-2\n",
      "Consumer 1 H-4\n",
      "Consumer 4 A-2\n",
      "Consumer 3 J-2\n",
      "Consumer 1 B-3\n",
      "Consumer 2 G-2\n",
      "Consumer 0 D-2\n",
      "Consumer 4 C-3\n",
      "Consumer 3 B-4\n",
      "Consumer 4 F-3\n",
      "Consumer 3 H-5\n",
      "Consumer 4 I-3\n",
      "Consumer 1 J-3\n",
      "Consumer 3 E-3\n",
      "Consumer 2 D-3\n",
      "Consumer 3 C-4\n",
      "Consumer 0 B-5\n",
      "Consumer 3 G-3\n",
      "Consumer 2 J-4\n",
      "ConsumerConsumer  10  F-4H-6\n",
      "\n",
      "Consumer 4 J-5\n",
      "Consumer 3 C-5\n",
      "Consumer Consumer0  4I-4 \n",
      "E-4\n",
      "Consumer 3 J-6\n",
      "Consumer 2 D-4\n",
      "Consumer 2 G-4\n",
      "Consumer 1 I-5\n",
      "Consumer 3 F-5\n",
      "Consumer 4 C-6\n",
      "Consumer 1 H-7\n",
      "Consumer 3 E-5\n",
      "Consumer 2 J-7\n",
      "Consumer 3 G-5\n",
      "Consumer 0 D-5\n",
      "Consumer 4 C-7\n",
      "Consumer 0 I-6\n",
      "Consumer 1 I-7\n",
      "Consumer 1 E-6\n",
      "Consumer 4 D-6\n",
      "Consumer 2 F-6\n",
      "Consumer 4 J-8\n",
      "Consumer 2 H-8\n",
      "Consumer 3 G-6\n",
      "Consumer 1 E-7\n",
      "Consumer 0 C-8\n",
      "Consumer 0 J-9\n",
      "Consumer 3 D-7\n",
      "Consumer 2 I-8\n",
      "Consumer 4 G-7\n",
      "Consumer 4 J-10\n",
      "Consumer 0 H-9\n",
      "Consumer 2 F-7\n",
      "Consumer 1 G-8\n",
      "Consumer 2 F-8\n",
      "Consumer 3 E-8\n",
      "Consumer 1 I-9\n",
      "Consumer 1 J-11\n",
      "Consumer 4 G-9\n",
      "Consumer Consumer0  1D-8 \n",
      "E-9\n",
      "Consumer 3 H-10\n",
      "Consumer 2 G-10\n",
      "Consumer 1 J-12\n",
      "Consumer 2 I-10\n",
      "Consumer 0 F-9\n",
      "Consumer 4 D-9\n",
      "Consumer 3 G-11\n",
      "Consumer 0 E-10\n",
      "Consumer 0 I-11\n",
      "Consumer 1 F-10\n",
      "Consumer 3 H-11\n",
      "Consumer 0 D-10\n",
      "Consumer 3 I-12\n",
      "Consumer 1 J-13\n",
      "Consumer 0 G-12\n",
      "Consumer 2 F-11\n",
      "Consumer 4 D-11\n",
      "Consumer 4 E-11\n",
      "Consumer 1 J-14\n",
      "Consumer 3 I-13\n",
      "Consumer 0 H-12\n",
      "Consumer 2 H-13\n",
      "Consumer 0 E-12\n",
      "Consumer 1 J-15\n",
      "Consumer 4 G-13\n",
      "Consumer 4 F-12\n",
      "Consumer 0 E-13\n",
      "Consumer 3 H-14\n",
      "Consumer 0 I-14\n",
      "Consumer 1 I-15\n",
      "Consumer 0 J-16\n",
      "Consumer 2 F-13\n",
      "Consumer 4 I-16\n",
      "Consumer 3 H-15\n",
      "Consumer 1 G-14\n",
      "Consumer 4 J-17\n",
      "Consumer 3 G-15\n",
      "Consumer 2 H-16\n",
      "Consumer 0 J-18\n",
      "Consumer 2 E-14\n",
      "Consumer 0 I-17\n",
      "Consumer 1 F-14\n",
      "ConsumerConsumer  43  G-16I-18\n",
      "\n",
      "Consumer 1 H-17\n",
      "Consumer 2 J-19\n",
      "Consumer 4 G-17\n",
      "Consumer 1 F-15\n",
      "Consumer 1 J-20\n",
      "Consumer 0 J-21\n",
      "Consumer 1 J-22\n",
      "Consumer 2 I-19\n",
      "Consumer 3 J-23\n",
      "Consumer 3 H-18\n",
      "Consumer 0 F-16\n",
      "Consumer 4 G-18\n",
      "Consumer 3 I-20\n",
      "Consumer 1 H-19\n",
      "Consumer 3 G-19\n",
      "Consumer 0 J-24\n",
      "Consumer 2 F-17\n",
      "Consumer 3 I-21\n",
      "Consumer 1 G-20\n",
      "Consumer 4 J-25\n",
      "Consumer 2 H-20\n",
      "Consumer 3 H-21\n",
      "Consumer 0 I-22\n",
      "Consumer 1 H-22\n",
      "Consumer 4 I-23\n",
      "Consumer 1 J-26\n",
      "Consumer 2 H-23\n",
      "Consumer 3 J-27\n",
      "Consumer 4 I-24\n",
      "Consumer 0 J-28\n",
      "Consumer 1 J-29\n",
      "Consumer 3 I-25\n",
      "Consumer 2 I-26\n",
      "Processing end\n",
      "Emtry\n",
      "Consumer end\n",
      "Emtry\n",
      "Consumer end\n",
      "Emtry\n",
      "Consumer end\n",
      "Emtry\n",
      "Consumer end\n",
      "Emtry\n",
      "Consumer end\n"
     ]
    }
   ],
   "source": [
    "dataQueue = queue.Queue(maxsize=4)\n",
    "\n",
    "[ threading.Thread(target=consumer, args=(i,)).start() for i in range(5) ]\n",
    "threads = [ threading.Thread(target=producer, args=(chr(i+ord('A')),3*(1+i))) for i in range(10) ]\n",
    "\n",
    "for t in threads: t.start()\n",
    "\n",
    "print (\"Waiting\")\n",
    "for t in threads: t.join()\n",
    "\n",
    "dataQueue.join()\n",
    "print (\"Processing end\")"
   ]
  },
  {
   "cell_type": "code",
   "execution_count": null,
   "metadata": {
    "collapsed": true
   },
   "outputs": [],
   "source": []
  },
  {
   "cell_type": "code",
   "execution_count": null,
   "metadata": {
    "collapsed": true
   },
   "outputs": [],
   "source": []
  }
 ],
 "metadata": {
  "kernelspec": {
   "display_name": "Python 3",
   "language": "python",
   "name": "python3"
  },
  "language_info": {
   "codemirror_mode": {
    "name": "ipython",
    "version": 3
   },
   "file_extension": ".py",
   "mimetype": "text/x-python",
   "name": "python",
   "nbconvert_exporter": "python",
   "pygments_lexer": "ipython3",
   "version": "3.6.3"
  }
 },
 "nbformat": 4,
 "nbformat_minor": 2
}
