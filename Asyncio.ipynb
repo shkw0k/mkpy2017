{
 "cells": [
  {
   "cell_type": "code",
   "execution_count": 29,
   "metadata": {
    "collapsed": true
   },
   "outputs": [],
   "source": [
    "import asyncio\n",
    "import time"
   ]
  },
  {
   "cell_type": "code",
   "execution_count": 50,
   "metadata": {},
   "outputs": [],
   "source": [
    "async def coroB (s):\n",
    "    for i in range(3):\n",
    "        print (s, i)\n",
    "        await asyncio.sleep(0.1)"
   ]
  },
  {
   "cell_type": "code",
   "execution_count": 55,
   "metadata": {},
   "outputs": [],
   "source": [
    "async def coroA(s):\n",
    "    for i in range(3):\n",
    "        a = chr(s+65)\n",
    "        print (\"%*d\" % (s, s), a)\n",
    "        await coroB(a)"
   ]
  },
  {
   "cell_type": "code",
   "execution_count": 56,
   "metadata": {
    "scrolled": false
   },
   "outputs": [
    {
     "name": "stdout",
     "output_type": "stream",
     "text": [
      "1 B\n",
      "B 0\n",
      "  3 D\n",
      "D 0\n",
      " 2 C\n",
      "C 0\n",
      "B 1\n",
      "D 1\n",
      "C 1\n",
      "B 2\n",
      "D 2\n",
      "C 2\n",
      "1 B\n",
      "B 0\n",
      "  3 D\n",
      "D 0\n",
      " 2 C\n",
      "C 0\n",
      "B 1\n",
      "D 1\n",
      "C 1\n",
      "B 2\n",
      "D 2\n",
      "C 2\n",
      "1 B\n",
      "B 0\n",
      "  3 D\n",
      "D 0\n",
      " 2 C\n",
      "C 0\n",
      "B 1\n",
      "D 1\n",
      "C 1\n",
      "B 2\n",
      "D 2\n",
      "C 2\n"
     ]
    },
    {
     "data": {
      "text/plain": [
       "[None, None, None]"
      ]
     },
     "execution_count": 56,
     "metadata": {},
     "output_type": "execute_result"
    }
   ],
   "source": [
    "loop = asyncio.get_event_loop()\n",
    "loop.run_until_complete(asyncio.gather(coroA(1),coroA(2),coroA(3)))\n",
    "#loop.close()"
   ]
  },
  {
   "cell_type": "code",
   "execution_count": null,
   "metadata": {
    "collapsed": true
   },
   "outputs": [],
   "source": []
  }
 ],
 "metadata": {
  "kernelspec": {
   "display_name": "Python 3",
   "language": "python",
   "name": "python3"
  },
  "language_info": {
   "codemirror_mode": {
    "name": "ipython",
    "version": 3
   },
   "file_extension": ".py",
   "mimetype": "text/x-python",
   "name": "python",
   "nbconvert_exporter": "python",
   "pygments_lexer": "ipython3",
   "version": "3.6.3"
  }
 },
 "nbformat": 4,
 "nbformat_minor": 2
}
