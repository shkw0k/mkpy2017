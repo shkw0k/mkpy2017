{
 "cells": [
  {
   "cell_type": "markdown",
   "metadata": {},
   "source": [
    "### Processes"
   ]
  },
  {
   "cell_type": "code",
   "execution_count": 3,
   "metadata": {
    "collapsed": true
   },
   "outputs": [],
   "source": [
    "import multiprocessing as mp\n",
    "import os\n",
    "import time"
   ]
  },
  {
   "cell_type": "code",
   "execution_count": 6,
   "metadata": {
    "collapsed": true
   },
   "outputs": [],
   "source": [
    "def worker (wid):\n",
    "    global counter\n",
    "    print (\"Started %d, pid=%d, counter=%d\" % (wid, os.getpid(), counter))\n",
    "    counter += 1\n",
    "    time.sleep(2)\n",
    "    print (\"Terminated %d, counter=%d\" % (wid, counter))\n"
   ]
  },
  {
   "cell_type": "code",
   "execution_count": 13,
   "metadata": {},
   "outputs": [
    {
     "name": "stdout",
     "output_type": "stream",
     "text": [
      "Started 0, pid=3345, counter=0\n",
      "Started 1, pid=3348, counter=0\n",
      "Started 2, pid=3349, counter=1\n",
      "Started 3, pid=3354, counter=2\n",
      "Started 4, pid=3355, counter=3\n",
      "Terminated 0, counter=1\n",
      "Terminated 1, counter=1\n",
      "Terminated 2, counter=2\n",
      "Terminated 3, counter=3\n",
      "Terminated 4, counter=4\n",
      "Elapsed time 2.0757875442504883\n"
     ]
    }
   ],
   "source": [
    "counter = 0\n",
    "startTime = time.time()\n",
    "\n",
    "joins = []\n",
    "for i in range(5):\n",
    "    p = mp.Process(target=worker, args=(i,))\n",
    "    joins.append(p)\n",
    "    p.start()\n",
    "    counter = i\n",
    "    \n",
    "for p in joins:\n",
    "    p.join()\n",
    "    \n",
    "endTime = time.time()\n",
    "print (\"Elapsed time\", endTime - startTime)"
   ]
  },
  {
   "cell_type": "code",
   "execution_count": null,
   "metadata": {
    "collapsed": true
   },
   "outputs": [],
   "source": [
    "os.get"
   ]
  }
 ],
 "metadata": {
  "kernelspec": {
   "display_name": "Python 3",
   "language": "python",
   "name": "python3"
  },
  "language_info": {
   "codemirror_mode": {
    "name": "ipython",
    "version": 3
   },
   "file_extension": ".py",
   "mimetype": "text/x-python",
   "name": "python",
   "nbconvert_exporter": "python",
   "pygments_lexer": "ipython3",
   "version": "3.6.3"
  }
 },
 "nbformat": 4,
 "nbformat_minor": 2
}
