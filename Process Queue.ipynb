{
 "cells": [
  {
   "cell_type": "markdown",
   "metadata": {},
   "source": [
    "# Processes\n",
    "\n",
    "- Data producer and consumer  running at different speed\n",
    "- Communication via queues"
   ]
  },
  {
   "cell_type": "code",
   "execution_count": null,
   "metadata": {
    "collapsed": true
   },
   "outputs": [],
   "source": [
    "import multiprocessing as mp\n",
    "import queue\n",
    "import time\n",
    "import random\n",
    "import os"
   ]
  },
  {
   "cell_type": "markdown",
   "metadata": {},
   "source": [
    "# Data producer worker"
   ]
  },
  {
   "cell_type": "code",
   "execution_count": null,
   "metadata": {
    "collapsed": true
   },
   "outputs": [],
   "source": [
    "def producer (args):\n",
    "    prefix, maxN = args\n",
    "    global dataQueue    \n",
    "    print (\"Started producer ---->\", os.getpid())\n",
    "    for i in range(maxN):\n",
    "        data = \"%s-%d\" % (prefix, i)        \n",
    "        dataQueue.put(data, block=True)    \n",
    "        time.sleep(random.random() * 0.1)"
   ]
  },
  {
   "cell_type": "markdown",
   "metadata": {},
   "source": [
    "# Data consumer worker"
   ]
  },
  {
   "cell_type": "code",
   "execution_count": null,
   "metadata": {
    "collapsed": true
   },
   "outputs": [],
   "source": [
    "def consumer (label):\n",
    "    global dataQueue\n",
    "    print (\"Started consumer\", os.getpid())\n",
    "    while True:\n",
    "        try:\n",
    "            data = dataQueue.get(block=True, timeout=1)\n",
    "            print (\"Consumer %*d\" % ((1+label), label), data)\n",
    "            time.sleep(random.random()*0.5)\n",
    "        except queue.Empty:\n",
    "            print (\"Emtry\")\n",
    "            break\n",
    "    print (\"End\")"
   ]
  },
  {
   "cell_type": "markdown",
   "metadata": {},
   "source": [
    "# Example: One producer and one consumer"
   ]
  },
  {
   "cell_type": "code",
   "execution_count": null,
   "metadata": {},
   "outputs": [],
   "source": [
    "# Create queue\n",
    "dataQueue = mp.Queue(maxsize=10)\n",
    "\n",
    "# Create the processes\n",
    "\n",
    "consumerProc = mp.Process(target=consumer, args=(0,))\n",
    "consumerProc.start()\n",
    "\n",
    "print (\"Start producing\")\n",
    "producer (('A', 10))\n",
    "print (\"End producing\")\n",
    "\n",
    "consumerProc.join()\n",
    "\n",
    "# Close the queue\n",
    "dataQueue.close()"
   ]
  },
  {
   "cell_type": "markdown",
   "metadata": {},
   "source": [
    "# Example: One producer and multiple consumers"
   ]
  },
  {
   "cell_type": "code",
   "execution_count": null,
   "metadata": {},
   "outputs": [],
   "source": [
    "dataQueue = mp.Queue(maxsize=4)\n",
    "\n",
    "[ mp.Process(target=consumer, args=(i,)).start() for i in range(5) ]\n",
    "\n",
    "producer (('A', 30))\n",
    "\n",
    "dataQueue.close()"
   ]
  },
  {
   "cell_type": "markdown",
   "metadata": {},
   "source": [
    "\n",
    "# Example: Multiple producers and multiple consumers"
   ]
  },
  {
   "cell_type": "code",
   "execution_count": null,
   "metadata": {},
   "outputs": [],
   "source": [
    "dataQueue = mp.Queue(maxsize=4)\n",
    "\n",
    "[ mp.Process(target=consumer, args=(i,)).start() for i in range(5) ]\n",
    "\n",
    "[ mp.Process(target=producer, args=((chr(i+ord('A')),(1+i)*10),)).start() for i in range(3) ]\n",
    "\n",
    "dataQueue.close()"
   ]
  },
  {
   "cell_type": "code",
   "execution_count": null,
   "metadata": {
    "collapsed": true
   },
   "outputs": [],
   "source": []
  }
 ],
 "metadata": {
  "kernelspec": {
   "display_name": "Python 3",
   "language": "python",
   "name": "python3"
  },
  "language_info": {
   "codemirror_mode": {
    "name": "ipython",
    "version": 3
   },
   "file_extension": ".py",
   "mimetype": "text/x-python",
   "name": "python",
   "nbconvert_exporter": "python",
   "pygments_lexer": "ipython3",
   "version": "3.6.3"
  }
 },
 "nbformat": 4,
 "nbformat_minor": 2
}
